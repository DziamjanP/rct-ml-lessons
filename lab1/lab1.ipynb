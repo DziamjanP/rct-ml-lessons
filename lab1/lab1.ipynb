{
 "cells": [
  {
   "cell_type": "code",
   "execution_count": 36,
   "metadata": {},
   "outputs": [],
   "source": [
    "import pandas as pd\n",
    "from sklearn.preprocessing import MinMaxScaler, StandardScaler, RobustScaler\n",
    "from sklearn.impute import SimpleImputer\n",
    "from sklearn.model_selection import train_test_split"
   ]
  },
  {
   "cell_type": "code",
   "execution_count": 37,
   "metadata": {},
   "outputs": [],
   "source": [
    "data = pd.read_csv('data/train.csv')\n",
    "kaggle_test = pd.read_csv('data/test.csv')"
   ]
  },
  {
   "cell_type": "code",
   "execution_count": 38,
   "metadata": {},
   "outputs": [],
   "source": [
    "train, test = train_test_split(data, test_size=0.3, random_state=42)"
   ]
  },
  {
   "cell_type": "code",
   "execution_count": null,
   "metadata": {},
   "outputs": [],
   "source": [
    "train.isnull().sum()"
   ]
  },
  {
   "cell_type": "markdown",
   "metadata": {},
   "source": [
    "## Fill gaps"
   ]
  },
  {
   "cell_type": "code",
   "execution_count": 40,
   "metadata": {},
   "outputs": [],
   "source": [
    "numeric_fields = ['Age', 'RoomService', 'FoodCourt', 'ShoppingMall', 'Spa', 'VRDeck']\n",
    "categ_fields = ['HomePlanet', 'CryoSleep', 'Destination', 'VIP']"
   ]
  },
  {
   "cell_type": "markdown",
   "metadata": {},
   "source": [
    "Fill numeric features with median values"
   ]
  },
  {
   "cell_type": "code",
   "execution_count": 41,
   "metadata": {},
   "outputs": [],
   "source": [
    "num_imputer = SimpleImputer(strategy='median')\n",
    "train[numeric_fields] = num_imputer.fit_transform(train[numeric_fields])\n",
    "test[numeric_fields] = num_imputer.transform(test[numeric_fields])\n",
    "kaggle_test[numeric_fields] = num_imputer.transform(kaggle_test[numeric_fields])"
   ]
  },
  {
   "cell_type": "markdown",
   "metadata": {},
   "source": [
    "Fill categorial features with most frequent values"
   ]
  },
  {
   "cell_type": "code",
   "execution_count": 42,
   "metadata": {},
   "outputs": [],
   "source": [
    "cat_imputer = SimpleImputer(strategy='most_frequent')\n",
    "train[categ_fields] = cat_imputer.fit_transform(train[categ_fields])\n",
    "test[categ_fields] = cat_imputer.transform(test[categ_fields])\n",
    "kaggle_test[categ_fields] = cat_imputer.transform(kaggle_test[categ_fields])"
   ]
  },
  {
   "cell_type": "code",
   "execution_count": null,
   "metadata": {},
   "outputs": [],
   "source": [
    "train.isnull().sum()"
   ]
  },
  {
   "cell_type": "markdown",
   "metadata": {},
   "source": [
    "Fill all null names with default name John Doe"
   ]
  },
  {
   "cell_type": "code",
   "execution_count": 44,
   "metadata": {},
   "outputs": [],
   "source": [
    "train[\"Name\"] = train[\"Name\"].fillna(\"John Doe\")\n",
    "test[\"Name\"] = test[\"Name\"].fillna(\"John Doe\")\n",
    "kaggle_test[\"Name\"] = kaggle_test[\"Name\"].fillna(\"John Doe\")"
   ]
  },
  {
   "cell_type": "markdown",
   "metadata": {},
   "source": [
    "Fill all null cabin values as: Deck X Room 0 Side X"
   ]
  },
  {
   "cell_type": "code",
   "execution_count": 45,
   "metadata": {},
   "outputs": [],
   "source": [
    "train[\"Cabin\"] = train[\"Cabin\"].fillna(\"X/0/X\")\n",
    "test[\"Cabin\"] = test[\"Cabin\"].fillna(\"X/0/X\")\n",
    "kaggle_test[\"Cabin\"] = kaggle_test[\"Cabin\"].fillna(\"X/0/X\")"
   ]
  },
  {
   "cell_type": "markdown",
   "metadata": {},
   "source": [
    "## Normalization"
   ]
  },
  {
   "cell_type": "markdown",
   "metadata": {},
   "source": [
    "But firstly, we need to split cabin into 3 columns as it's more useful. Also otherwise cabin number can't be normalized easily."
   ]
  },
  {
   "cell_type": "code",
   "execution_count": 46,
   "metadata": {},
   "outputs": [],
   "source": [
    "train[[\"Deck\", \"Room\", \"Side\"]] = train[\"Cabin\"].str.split(\"/\", expand=True)\n",
    "train = train.drop(\"Cabin\", axis=1)\n",
    "test[[\"Deck\", \"Room\", \"Side\"]] = test[\"Cabin\"].str.split(\"/\", expand=True)\n",
    "test = test.drop(\"Cabin\", axis=1)\n",
    "kaggle_test[[\"Deck\", \"Room\", \"Side\"]] = kaggle_test[\"Cabin\"].str.split(\"/\", expand=True)\n",
    "kaggle_test = kaggle_test.drop(\"Cabin\", axis=1)"
   ]
  },
  {
   "cell_type": "code",
   "execution_count": 47,
   "metadata": {},
   "outputs": [],
   "source": [
    "numeric_fields = ['Age', 'RoomService', 'FoodCourt', 'ShoppingMall', 'Spa', 'VRDeck', 'Room']"
   ]
  },
  {
   "cell_type": "markdown",
   "metadata": {},
   "source": [
    "Now normalization via some scaler"
   ]
  },
  {
   "cell_type": "markdown",
   "metadata": {},
   "source": [
    "fit normalizer"
   ]
  },
  {
   "cell_type": "code",
   "execution_count": null,
   "metadata": {},
   "outputs": [],
   "source": [
    "scaler = MinMaxScaler()\n",
    "scaler.fit(train[numeric_fields])"
   ]
  },
  {
   "cell_type": "markdown",
   "metadata": {},
   "source": [
    "now transofrm data based on fitting"
   ]
  },
  {
   "cell_type": "code",
   "execution_count": 49,
   "metadata": {},
   "outputs": [],
   "source": [
    "train[numeric_fields] = scaler.transform(train[numeric_fields])\n",
    "test[numeric_fields] = scaler.transform(test[numeric_fields])\n",
    "kaggle_test[numeric_fields] = scaler.transform(kaggle_test[numeric_fields])"
   ]
  },
  {
   "cell_type": "markdown",
   "metadata": {},
   "source": [
    "## Replace categories with OHE"
   ]
  },
  {
   "cell_type": "code",
   "execution_count": 50,
   "metadata": {},
   "outputs": [],
   "source": [
    "categ_fields = ['HomePlanet', 'CryoSleep', 'Destination', 'Deck', 'Side']"
   ]
  },
  {
   "cell_type": "code",
   "execution_count": 51,
   "metadata": {},
   "outputs": [],
   "source": [
    "train_encoded = pd.get_dummies(train, columns=categ_fields)\n",
    "test_encoded = pd.get_dummies(test, columns=categ_fields)\n",
    "kaggle_test_encoded = pd.get_dummies(kaggle_test, columns=categ_fields)"
   ]
  },
  {
   "cell_type": "markdown",
   "metadata": {},
   "source": [
    "I checked and found out that no Deck_T present in the test, so form uniform data we need to make sure columns match"
   ]
  },
  {
   "cell_type": "code",
   "execution_count": 52,
   "metadata": {},
   "outputs": [],
   "source": [
    "for c in train_encoded.columns:\n",
    "    if (c not in test_encoded.columns):\n",
    "        test_encoded[c] = 0\n",
    "\n",
    "for c in test_encoded.columns:\n",
    "    if (c not in train_encoded.columns):\n",
    "        train_encoded[c] = 0\n",
    "\n",
    "for c in test_encoded.columns:\n",
    "    if (c not in kaggle_test_encoded.columns):\n",
    "        kaggle_test_encoded[c] = 0"
   ]
  },
  {
   "cell_type": "code",
   "execution_count": null,
   "metadata": {},
   "outputs": [],
   "source": [
    "test_encoded.head()"
   ]
  },
  {
   "cell_type": "code",
   "execution_count": 54,
   "metadata": {},
   "outputs": [],
   "source": [
    "train_encoded.to_csv('data/train_preprocessed.csv', index=False)\n",
    "test_encoded.to_csv('data/test_preprocessed.csv', index=False)\n",
    "kaggle_test_encoded.to_csv('data/kaggle_test_preprocessed.csv', index=False)"
   ]
  }
 ],
 "metadata": {
  "kernelspec": {
   "display_name": "venv",
   "language": "python",
   "name": "python3"
  },
  "language_info": {
   "codemirror_mode": {
    "name": "ipython",
    "version": 3
   },
   "file_extension": ".py",
   "mimetype": "text/x-python",
   "name": "python",
   "nbconvert_exporter": "python",
   "pygments_lexer": "ipython3",
   "version": "3.12.9"
  }
 },
 "nbformat": 4,
 "nbformat_minor": 4
}

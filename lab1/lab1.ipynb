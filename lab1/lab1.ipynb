{
 "cells": [
  {
   "cell_type": "code",
   "execution_count": 6,
   "metadata": {},
   "outputs": [],
   "source": [
    "import pandas as pd\n",
    "from sklearn.preprocessing import MinMaxScaler, StandardScaler, RobustScaler\n",
    "from sklearn.impute import SimpleImputer\n",
    "from sklearn.model_selection import train_test_split"
   ]
  },
  {
   "cell_type": "code",
   "execution_count": 4,
   "metadata": {},
   "outputs": [],
   "source": [
    "data = pd.read_csv('data/train.csv')\n",
    "kaggle_test = pd.read_csv('data/test.csv')"
   ]
  },
  {
   "cell_type": "code",
   "execution_count": 7,
   "metadata": {},
   "outputs": [],
   "source": [
    "train, test = train_test_split(data, test_size=0.3, random_state=42)"
   ]
  },
  {
   "cell_type": "code",
   "execution_count": 8,
   "metadata": {},
   "outputs": [
    {
     "data": {
      "text/plain": [
       "PassengerId       0\n",
       "HomePlanet      140\n",
       "CryoSleep       154\n",
       "Cabin           142\n",
       "Destination     122\n",
       "Age             129\n",
       "VIP             153\n",
       "RoomService     114\n",
       "FoodCourt       122\n",
       "ShoppingMall    146\n",
       "Spa             122\n",
       "VRDeck          129\n",
       "Name            138\n",
       "Transported       0\n",
       "dtype: int64"
      ]
     },
     "execution_count": 8,
     "metadata": {},
     "output_type": "execute_result"
    }
   ],
   "source": [
    "train.isnull().sum()"
   ]
  },
  {
   "cell_type": "markdown",
   "metadata": {},
   "source": [
    "## Fill gaps"
   ]
  },
  {
   "cell_type": "code",
   "execution_count": 9,
   "metadata": {},
   "outputs": [],
   "source": [
    "numeric_fields = ['Age', 'RoomService', 'FoodCourt', 'ShoppingMall', 'Spa', 'VRDeck']\n",
    "categ_fields = ['HomePlanet', 'CryoSleep', 'Destination', 'VIP']"
   ]
  },
  {
   "cell_type": "markdown",
   "metadata": {},
   "source": [
    "Fill numeric features with median values"
   ]
  },
  {
   "cell_type": "code",
   "execution_count": 10,
   "metadata": {},
   "outputs": [],
   "source": [
    "num_imputer = SimpleImputer(strategy='median')\n",
    "train[numeric_fields] = num_imputer.fit_transform(train[numeric_fields])\n",
    "test[numeric_fields] = num_imputer.transform(test[numeric_fields])\n",
    "kaggle_test[numeric_fields] = num_imputer.transform(kaggle_test[numeric_fields])"
   ]
  },
  {
   "cell_type": "markdown",
   "metadata": {},
   "source": [
    "Fill categorial features with most frequent values"
   ]
  },
  {
   "cell_type": "code",
   "execution_count": 11,
   "metadata": {},
   "outputs": [],
   "source": [
    "cat_imputer = SimpleImputer(strategy='most_frequent')\n",
    "train[categ_fields] = cat_imputer.fit_transform(train[categ_fields])\n",
    "test[categ_fields] = cat_imputer.transform(test[categ_fields])\n",
    "kaggle_test[categ_fields] = cat_imputer.transform(kaggle_test[categ_fields])"
   ]
  },
  {
   "cell_type": "code",
   "execution_count": 19,
   "metadata": {},
   "outputs": [
    {
     "data": {
      "text/plain": [
       "PassengerId     0\n",
       "HomePlanet      0\n",
       "CryoSleep       0\n",
       "Cabin           0\n",
       "Destination     0\n",
       "Age             0\n",
       "VIP             0\n",
       "RoomService     0\n",
       "FoodCourt       0\n",
       "ShoppingMall    0\n",
       "Spa             0\n",
       "VRDeck          0\n",
       "Name            0\n",
       "Transported     0\n",
       "dtype: int64"
      ]
     },
     "execution_count": 19,
     "metadata": {},
     "output_type": "execute_result"
    }
   ],
   "source": [
    "train.isnull().sum()"
   ]
  },
  {
   "cell_type": "markdown",
   "metadata": {},
   "source": [
    "Fill all null names with default name John Doe"
   ]
  },
  {
   "cell_type": "code",
   "execution_count": 16,
   "metadata": {},
   "outputs": [],
   "source": [
    "train[\"Name\"] = train[\"Name\"].fillna(\"John Doe\")\n",
    "test[\"Name\"] = test[\"Name\"].fillna(\"John Doe\")\n",
    "kaggle_test[\"Name\"] = kaggle_test[\"Name\"].fillna(\"John Doe\")"
   ]
  },
  {
   "cell_type": "markdown",
   "metadata": {},
   "source": [
    "Fill all null cabin values as: Deck X Room 0 Side X"
   ]
  },
  {
   "cell_type": "code",
   "execution_count": 18,
   "metadata": {},
   "outputs": [],
   "source": [
    "train[\"Cabin\"] = train[\"Cabin\"].fillna(\"X/0/X\")\n",
    "test[\"Cabin\"] = test[\"Cabin\"].fillna(\"X/0/X\")\n",
    "kaggle_test[\"Cabin\"] = kaggle_test[\"Cabin\"].fillna(\"X/0/X\")"
   ]
  },
  {
   "cell_type": "markdown",
   "metadata": {},
   "source": [
    "## Normalization"
   ]
  },
  {
   "cell_type": "markdown",
   "metadata": {},
   "source": [
    "But firstly, we need to split cabin into 3 columns as it's more useful. Also otherwise cabin number can't be normalized easily."
   ]
  },
  {
   "cell_type": "code",
   "execution_count": 20,
   "metadata": {},
   "outputs": [],
   "source": [
    "train[[\"Deck\", \"Room\", \"Side\"]] = train[\"Cabin\"].str.split(\"/\", expand=True)\n",
    "train = train.drop(\"Cabin\", axis=1)\n",
    "test[[\"Deck\", \"Room\", \"Side\"]] = test[\"Cabin\"].str.split(\"/\", expand=True)\n",
    "test = test.drop(\"Cabin\", axis=1)\n",
    "kaggle_test[[\"Deck\", \"Room\", \"Side\"]] = kaggle_test[\"Cabin\"].str.split(\"/\", expand=True)\n",
    "kaggle_test = kaggle_test.drop(\"Cabin\", axis=1)"
   ]
  },
  {
   "cell_type": "markdown",
   "metadata": {},
   "source": [
    "Now normalization via some scaler"
   ]
  },
  {
   "cell_type": "markdown",
   "metadata": {},
   "source": [
    "fit normalizer"
   ]
  },
  {
   "cell_type": "code",
   "execution_count": null,
   "metadata": {},
   "outputs": [],
   "source": [
    "scaler = MinMaxScaler()\n",
    "scaler.fit(train[numeric_fields])"
   ]
  },
  {
   "cell_type": "markdown",
   "metadata": {},
   "source": [
    "now transofrm data based on fitting"
   ]
  },
  {
   "cell_type": "code",
   "execution_count": null,
   "metadata": {},
   "outputs": [],
   "source": [
    "train[numeric_fields] = scaler.transform(train[numeric_fields])\n",
    "test[numeric_fields] = scaler.transform(test[numeric_fields])\n",
    "kaggle_test[numeric_fields] = scaler.transform(kaggle_test[numeric_fields])"
   ]
  }
 ],
 "metadata": {
  "kernelspec": {
   "display_name": "venv",
   "language": "python",
   "name": "python3"
  },
  "language_info": {
   "codemirror_mode": {
    "name": "ipython",
    "version": 3
   },
   "file_extension": ".py",
   "mimetype": "text/x-python",
   "name": "python",
   "nbconvert_exporter": "python",
   "pygments_lexer": "ipython3",
   "version": "3.12.9"
  }
 },
 "nbformat": 4,
 "nbformat_minor": 4
}
